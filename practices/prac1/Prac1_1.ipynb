{
  "cells": [
    {
      "cell_type": "markdown",
      "metadata": {
        "id": "k4NMHBq16Y_g"
      },
      "source": [
        "# RL basics\n",
        "\n",
        "Термины и понятия:\n",
        "\n",
        "- агент/среда\n",
        "- наблюдение $o$ / состояние $s$\n",
        "- действие $a$, стратегия $\\pi: \\pi(s) \\rightarrow a$ функция перехода $T: T(s, a) \\rightarrow s'$\n",
        "- вознаграждение $r$, ф-я вознаграждений $R: R(s, a) \\rightarrow r$\n",
        "- цикл взаимодействия, траектория $\\tau: (s_0, a_0, r_0, s_1, a_1, r_1, ..., s_T, a_T, r_T)$, эпизод\n",
        "- отдача $G$, подсчет отдачи, средняя[/ожидаемая] отдача $\\mathbb{E}[G]$"
      ]
    },
    {
      "cell_type": "code",
      "execution_count": 220,
      "metadata": {
        "id": "MoNP7Wdn6aP0"
      },
      "outputs": [],
      "source": [
        "try:\n",
        "    import google.colab\n",
        "    COLAB = True\n",
        "except ModuleNotFoundError:\n",
        "    COLAB = False\n",
        "    pass\n",
        "\n",
        "if COLAB:\n",
        "    !pip -q install \"gymnasium[classic-control, atari, accept-rom-license]\"\n",
        "    !pip -q install piglet\n",
        "    !pip -q install imageio_ffmpeg\n",
        "    !pip -q install moviepy==1.0.3"
      ]
    },
    {
      "cell_type": "code",
      "execution_count": 221,
      "metadata": {
        "id": "9JPaLF5v6esZ"
      },
      "outputs": [],
      "source": [
        "import glob\n",
        "import io\n",
        "import base64\n",
        "import gymnasium as gym\n",
        "import numpy as np\n",
        "from IPython import display as ipythondisplay\n",
        "from IPython.display import HTML\n",
        "import matplotlib.pyplot as plt\n",
        "%matplotlib inline"
      ]
    },
    {
      "cell_type": "markdown",
      "metadata": {
        "id": "OGAoJeNF6hJO"
      },
      "source": [
        "## Agent, environment\n",
        "\n",
        "<img src=https://gymnasium.farama.org/_images/lunar_lander.gif caption=\"lunar lander\" width=\"150\" height=\"50\"><img src=https://gymnasium.farama.org/_images/mountain_car.gif caption=\"mountain car\" width=\"150\" height=\"50\">\n",
        "<img src=https://gymnasium.farama.org/_images/cliff_walking.gif caption=\"cliff walking\" width=\"300\" height=\"50\">\n",
        "<img src=https://ale.farama.org/_images/montezuma_revenge.gif caption=\"montezuma revenge\" width=\"150\" height=\"100\">\n",
        "<img src=https://github.com/danijar/crafter/raw/main/media/video.gif caption=\"crafter\" width=\"150\" height=\"100\">\n",
        "<img src=https://camo.githubusercontent.com/6df2ca438d8fe8aa7a132b859315147818c54af608f8609320c3c20e938acf48/68747470733a2f2f6d656469612e67697068792e636f6d2f6d656469612f344e78376759694d394e44724d724d616f372f67697068792e676966 caption=\"malmo minecraft\" width=\"150\" height=\"100\">\n",
        "<img src=https://images.ctfassets.net/kftzwdyauwt9/e0c0947f-1a44-4528-4a41450a9f0a/2d0e85871d58d02dbe01b2469d693d4a/table-03.gif caption=\"roboschool\" width=\"150\" height=\"100\">\n",
        "<img src=https://raw.githubusercontent.com/Tviskaron/mipt/master/2019/RL/02/mdp.png caption=\"Марковский процесс принятия решений\" width=\"150\" height=\"100\">\n",
        "<img src=https://minigrid.farama.org/_images/DoorKeyEnv.gif caption=\"minigrid\" width=\"120\" height=\"120\">"
      ]
    },
    {
      "cell_type": "markdown",
      "metadata": {
        "id": "dcyLKga76mA_"
      },
      "source": [
        "## Observation, state\n",
        "\n",
        "TODO:\n",
        "- добавить примеры наблюдений/состояний (числа, векторы, картинки)\n",
        "- интуитивное объяснение различия, положить пока, что наблюдение = состояние\n",
        "- пространство состояний\n",
        "\n",
        "\n",
        "В каждый момент времени среда имеет некоторое внутреннее состояние. Здесь слово \"состояние\" я употребил скорее в интуитивном понимании, чтобы обозначить, что среда изменчива (иначе какой смысл с ней взаимодействовать, если ничего не меняется). В обучении с подкреплением под термином состояние $s$ (или $s_t$, где $t$ — текущее время) подразумевают либо абстрактно информацию о \"состоянии\" среды, либо ее явное представление в виде данных, достаточные для полного описания \"состояния\". *NB: Здесь можно провести аналогию с компьютерными играми — файл сохранения игры как раз содержит информацию о \"состоянии\" мира игры, чтобы в будущем можно было продолжить с текущей точки, так что данные этого файла в целом можно с некоторой натяжкой считать состоянием (с натяжкой, потому что редко когда в сложных играх файлы сохранения содержат прямо вот всю информацию, так что после перезагрузки вы получите не совсем точную копию). При этом обычно подразумевается, что состояние не содержит в себе ничего лишнего, то есть это **минимальный** набор информации.*\n",
        "\n",
        "Наблюдением $o$ называют то, что агент \"видит\" о текущем состоянии среды. Это не обязательно зрение, а вообще вся доступная ему информация (условно, со всех его органов чувств).\n",
        "\n",
        "В общем случае наблюдение: кортеж/словарь многомерных векторов чисел."
      ]
    },
    {
      "cell_type": "code",
      "execution_count": 222,
      "metadata": {
        "id": "ypHv9w6i6pcX"
      },
      "outputs": [
        {
          "name": "stdout",
          "output_type": "stream",
          "text": [
            "(4,)\n",
            "(2,)\n"
          ]
        }
      ],
      "source": [
        "print(gym.make(\"CartPole-v0\").reset()[0].shape)\n",
        "print(gym.make(\"MountainCar-v0\").reset()[0].shape)"
      ]
    },
    {
      "cell_type": "markdown",
      "metadata": {
        "id": "GabuCLcJ67lb"
      },
      "source": [
        "## Action, policy, transition function\n",
        "\n",
        "Рассмотрим следующие MDP:\n",
        "\n",
        "- A: <img src=https://i.ibb.co/mrCMVZLQ/mdp-a.png caption=\"A\" width=\"400\" height=\"100\">\n",
        "- B: <img src=https://i.ibb.co/GQ2tVtjC/mdp-b.png caption=\"B\" width=\"400\" height=\"100\">\n",
        "- C: <img src=https://i.ibb.co/Jj9LYHjP/mdp-c.png caption=\"C\" width=\"400\" height=\"100\">\n",
        "\n",
        "Links to all:\n",
        "[A](https://i.ibb.co/mrCMVZLQ/mdp-a.png)\n",
        "[B](https://i.ibb.co/GQ2tVtjC/mdp-b.png)\n",
        "[C](https://i.ibb.co/Jj9LYHjP/mdp-c.png)\n",
        "[D](https://i.ibb.co/Y47Mr83b/mdp-d.png)\n",
        "[E](https://i.ibb.co/Kjt1Xhmf/mdp-e.png)\n",
        "\n",
        "Давайте явно запишем пространства состояний $S$ и действий $A$, а также функцию перехода $T$ среды."
      ]
    },
    {
      "cell_type": "code",
      "execution_count": 223,
      "metadata": {},
      "outputs": [],
      "source": [
        "# Custom rewards for A, B, C\n",
        "\n",
        "R_a = {\n",
        "    (0, 0): 1.0,\n",
        "    (1, 0): 1.0,\n",
        "    (2, -1): 0.0\n",
        "}\n",
        "\n",
        "R_b = {\n",
        "    (0, 0): 1.0,\n",
        "    (0, 1): 2.0,\n",
        "    (0, 2): 1.0,\n",
        "    (1, -1): 0.0,\n",
        "    (2, -1): 0.0,\n",
        "    (3, -1): 0.0\n",
        "}\n",
        "\n",
        "R_c = {\n",
        "    (0, 0): 1.0,\n",
        "    (0, 1): 0.5,\n",
        "    (1, 0): -0.1,\n",
        "    (1, 1): 2.0,\n",
        "    (0, 1): 0.1,\n",
        "    (2, 0): 0.5,\n",
        "    (2, 1): 0.0,\n",
        "    (3, -1): 0.0\n",
        "}"
      ]
    },
    {
      "cell_type": "code",
      "execution_count": 224,
      "metadata": {
        "id": "4XpqNc_o6_CS"
      },
      "outputs": [
        {
          "name": "stdout",
          "output_type": "stream",
          "text": [
            "states={0, 1, 2} | actions={0, -1}\n",
            "Transition function T_a={(0, 0): 1, (1, 0): 2, (2, -1): 2}\n",
            "states={0, 1, 2, 3} | actions={0, 1, 2, -1}\n",
            "Transition function T_b={(0, 0): 1, (0, 1): 2, (0, 2): 3, (1, -1): 1, (2, -1): 2, (3, -1): 3}\n",
            "states={0, 1, 2, 3} | actions={0, 1, -1}\n",
            "Transition function T_c={(0, 0): 1, (1, 0): 1, (1, 1): 3, (0, 1): 2, (2, 1): 2, (2, 0): 3, (3, -1): 3}\n"
          ]
        }
      ],
      "source": [
        "# A\n",
        "states = set(range(3))\n",
        "actions = set(range(-1, 1))\n",
        "\n",
        "print(f'{states=} | {actions=}')\n",
        "\n",
        "T_a = {\n",
        "    (0, 0): 1,\n",
        "    (1, 0): 2,\n",
        "    (2, -1): 2\n",
        "}\n",
        "print(f'Transition function {T_a=}')\n",
        "\n",
        "A_mdp = states, actions, T_a, [2], R_a\n",
        "\n",
        "# B\n",
        "states = set(range(4))\n",
        "actions = set(range(-1, 3))\n",
        "\n",
        "print(f'{states=} | {actions=}')\n",
        "\n",
        "T_b = {\n",
        "    (0, 0): 1,\n",
        "    (0, 1): 2,\n",
        "    (0, 2): 3,\n",
        "    (1, -1): 1,\n",
        "    (2, -1): 2,\n",
        "    (3, -1): 3\n",
        "}\n",
        "print(f'Transition function {T_b=}')\n",
        "\n",
        "B_mdp = states, actions, T_b, [1, 2, 3], R_b\n",
        "\n",
        "# C\n",
        "states = set(range(4))\n",
        "actions = set(range(-1, 2))\n",
        "\n",
        "print(f'{states=} | {actions=}')\n",
        "\n",
        "T_c = {\n",
        "    (0, 0): 1,\n",
        "    (1, 0): 1,\n",
        "    (1, 1): 3,\n",
        "    (0, 1): 2,\n",
        "    (2, 1): 2,\n",
        "    (2, 0): 3,\n",
        "    (3, -1): 3\n",
        "}\n",
        "print(f'Transition function {T_c=}')\n",
        "\n",
        "C_mdp = states, actions, T_c, [3], R_c"
      ]
    },
    {
      "cell_type": "markdown",
      "metadata": {
        "id": "KlqB4WcZ7CDK"
      },
      "source": [
        "Попробуйте записать функцию перехода в матричном виде:"
      ]
    },
    {
      "cell_type": "code",
      "execution_count": 225,
      "metadata": {
        "id": "jmg8hnng7EnJ"
      },
      "outputs": [
        {
          "name": "stdout",
          "output_type": "stream",
          "text": [
            "[[0. 1. 0.]\n",
            " [0. 0. 1.]\n",
            " [0. 0. 1.]]\n",
            "\n",
            "[[0.         0.33333333 0.33333333 0.33333333]\n",
            " [0.         1.         0.         0.        ]\n",
            " [0.         0.         1.         0.        ]\n",
            " [0.         0.         0.         1.        ]]\n",
            "\n",
            "[[0.  0.5 0.5 0. ]\n",
            " [0.  0.5 0.  0.5]\n",
            " [0.  0.  0.5 0.5]\n",
            " [0.  0.  0.  1. ]]\n",
            "\n"
          ]
        }
      ],
      "source": [
        "# A\n",
        "m_a = np.zeros((3, 3))\n",
        "for (state, action), next_state in T_a.items():\n",
        "    m_a[state][next_state] = 1.0\n",
        "for row in m_a:\n",
        "    row /= row.sum() if row.sum() != 0 else 1\n",
        "\n",
        "print(m_a)\n",
        "print()\n",
        "\n",
        "# B\n",
        "m_b = np.zeros((4, 4))\n",
        "for (state, action), next_state in T_b.items():\n",
        "    m_b[state][next_state] = 1.0\n",
        "for row in m_b:\n",
        "    row /= row.sum() if row.sum() != 0 else 1\n",
        "\n",
        "print(m_b)\n",
        "print()\n",
        "\n",
        "# C\n",
        "m_c = np.zeros((4, 4))\n",
        "for (state, action), next_state in T_c.items():\n",
        "    m_c[state][next_state] = 1.0\n",
        "for row in m_c:\n",
        "    row /= row.sum() if row.sum() != 0 else 1\n",
        "\n",
        "print(m_c)\n",
        "print()"
      ]
    },
    {
      "cell_type": "markdown",
      "metadata": {
        "id": "_FPshg_07G0R"
      },
      "source": [
        "Как получить вероятность нахождения агента в состоянии (1) через N шагов? Что происходит с вероятностями нахождения в состояниях при $N \\rightarrow \\infty$"
      ]
    },
    {
      "cell_type": "code",
      "execution_count": 226,
      "metadata": {
        "id": "9pwc4Atn7IAf"
      },
      "outputs": [
        {
          "name": "stdout",
          "output_type": "stream",
          "text": [
            "[0. 0. 1.]\n",
            "[0.    0.333 0.333 0.333]\n",
            "[0. 0. 0. 1.]\n"
          ]
        }
      ],
      "source": [
        "def f(v0, m_t, n):\n",
        "    m_t = np.linalg.matrix_power(m_t, n)\n",
        "    return np.round(v0 @ m_t, 3)\n",
        "\n",
        "print(f([1, 0, 0], m_a, 1000)) # A\n",
        "print(f([1, 0, 0, 0], m_b, 1000)) # B\n",
        "print(f([1, 0, 0, 0], m_c, 1000)) # C"
      ]
    },
    {
      "cell_type": "markdown",
      "metadata": {
        "id": "AiU5X4DH7TaG"
      },
      "source": [
        "Давайте попробуем задать двух агентов: случайного и оптимального (для каждой среды свой)."
      ]
    },
    {
      "cell_type": "code",
      "execution_count": 227,
      "metadata": {
        "id": "It2waXJi7WWN"
      },
      "outputs": [],
      "source": [
        "class Agent:\n",
        "    def __init__(self, actions, R_, terminal_states):\n",
        "        self.rng = np.random.default_rng()\n",
        "        self.R = R_\n",
        "        self.s_acts = {}\n",
        "        for (s, a), sn in self.R.items():\n",
        "            if s not in self.s_acts:\n",
        "                self.s_acts[s] = [a]\n",
        "            else:\n",
        "                self.s_acts[s].append(a)\n",
        "        self.terminal_states = terminal_states\n",
        "\n",
        "    def act(self, state):\n",
        "        if state in self.terminal_states:\n",
        "            return -1\n",
        "        return self.rng.choice(self.s_acts[state])\n",
        "        "
      ]
    },
    {
      "cell_type": "markdown",
      "metadata": {
        "id": "VH6uo4EP7ZqB"
      },
      "source": [
        "В качестве дополнения, запишите стратегию агента"
      ]
    },
    {
      "cell_type": "code",
      "execution_count": 228,
      "metadata": {
        "id": "t68c_r-W7asH"
      },
      "outputs": [],
      "source": [
        "class Agent_: # Greedy policy\n",
        "    def __init__(self, R_, terminal_states):\n",
        "        self.R = R_\n",
        "        self.terminal_states = terminal_states\n",
        "\n",
        "    def act(self, state, terminal_states):\n",
        "        if state in self.terminal_states:\n",
        "            return -1\n",
        "        rs = []\n",
        "        actions = []\n",
        "        for item in self.R.items():\n",
        "            if item[0][0] == state:\n",
        "                rs.append(item[1])\n",
        "                actions.append(item[0][1])\n",
        "        return actions[np.argmax(rs)]"
      ]
    },
    {
      "cell_type": "markdown",
      "metadata": {
        "id": "XGx2-KeH7lL4"
      },
      "source": [
        "## Reward, reward function\n",
        "\n",
        "Теперь добавим произвольную функцию вознаграждения. Например, для A:"
      ]
    },
    {
      "cell_type": "code",
      "execution_count": 229,
      "metadata": {
        "id": "fk7umEnA7oFv"
      },
      "outputs": [
        {
          "name": "stdout",
          "output_type": "stream",
          "text": [
            "{(0, 0): -0.1, (1, 0): 1.0, (2, -1): 0.0}\n",
            "({0, 1, 2}, {0, -1}, {(0, 0): 1, (1, 0): 2, (2, -1): 2}, [2], {(0, 0): 1.0, (1, 0): 1.0, (2, -1): 0.0})\n"
          ]
        }
      ],
      "source": [
        "R = {\n",
        "    (0, 0): -0.1,\n",
        "    (1, 0): 1.0,\n",
        "    (2, -1): 0.0\n",
        "}\n",
        "print(R)\n",
        "\n",
        "# A_mdp = *A_mdp, R\n",
        "print(A_mdp)"
      ]
    },
    {
      "cell_type": "markdown",
      "metadata": {
        "id": "j92TZ1l67rVh"
      },
      "source": [
        "## Interaction loop, trajectory, termination, truncation, episode\n",
        "\n",
        "Общий цикл взаимодействия в рамках эпизода:\n",
        "1. Инициализировать среду: $s \\leftarrow \\text{env.init()}$\n",
        "2. Цикл:\n",
        "    - выбрать действие: $a \\leftarrow \\pi(s)$\n",
        "    - получить ответ от среды: $s, r, d \\leftarrow \\text{env.next(a)}$\n",
        "    - если $d == \\text{True}$, выйти из цикла"
      ]
    },
    {
      "cell_type": "code",
      "execution_count": 230,
      "metadata": {
        "id": "MRPZACJt7vG8"
      },
      "outputs": [
        {
          "name": "stdout",
          "output_type": "stream",
          "text": [
            "------------\n",
            "0\n",
            "1\n",
            "2 Finish\n",
            "\n",
            "0\n",
            "1 Finish\n",
            "\n",
            "0\n",
            "2\n",
            "3 Finish\n",
            "\n",
            "------------\n",
            "0\n",
            "1\n",
            "2 Finish\n",
            "\n",
            "0\n",
            "3 Finish\n",
            "\n",
            "0\n",
            "2\n",
            "2\n",
            "2\n",
            "3 Finish\n",
            "\n"
          ]
        }
      ],
      "source": [
        "def run_episode(mdp, f=True, s = 0):\n",
        "    states, actions, T, terminal_nodes, R = mdp\n",
        "    agent = Agent(actions, R, terminal_nodes)\n",
        "\n",
        "    tau = []\n",
        "    while True:\n",
        "        a = agent.act(s)\n",
        "        if f: print(s)\n",
        "        s_next = T[(s, a)]\n",
        "        r = R[(s, a)]\n",
        "\n",
        "        tau.append((s, a, r))\n",
        "        s = s_next\n",
        "\n",
        "        if s_next in terminal_nodes:\n",
        "            if f: print(f\"{s_next} Finish\")\n",
        "            break\n",
        "\n",
        "    return tau\n",
        "\n",
        "print(\"------------\")\n",
        "run_episode(A_mdp)\n",
        "print()\n",
        "run_episode(B_mdp)\n",
        "print()\n",
        "run_episode(C_mdp)\n",
        "print()\n",
        "\n",
        "def run_episode_(mdp, f=True, s = 0):\n",
        "    states, actions, T, terminal_nodes, R = mdp\n",
        "    agent = Agent_(R, terminal_nodes)\n",
        "\n",
        "    tau = []\n",
        "    while True:\n",
        "        a = agent.act(s)\n",
        "        if f: print(s)\n",
        "        s_next = T[(s, a)]\n",
        "        r = R[(s, a)]\n",
        "\n",
        "        tau.append((s, a, r))\n",
        "        s = s_next\n",
        "\n",
        "        if s_next in terminal_nodes:\n",
        "            if f: print(f\"{s_next} Finish\")\n",
        "            break\n",
        "\n",
        "    return tau\n",
        "\n",
        "print(\"------------\")\n",
        "run_episode(A_mdp)\n",
        "print()\n",
        "run_episode(B_mdp)\n",
        "print()\n",
        "run_episode(C_mdp)\n",
        "print()"
      ]
    },
    {
      "cell_type": "markdown",
      "metadata": {
        "id": "wbGEr8kl7xnS"
      },
      "source": [
        "Termination — означает окончание эпизода, когда достигнуто терминальное состояние. Является частью задания среды.\n",
        "\n",
        "Truncation — означает окончание эпизода, когда достигнут лимит по числу шагов (=времени). Обычно является внешне заданным параметром для удобства обучения.\n",
        "\n",
        "Пока не будем вводить truncation, но поддержим termination: расширьте определение среды информацией о терминальных состояниях для всех описанных ранее сред. Сгенерируйте по несколько случайных траекторий для каждой среды."
      ]
    },
    {
      "cell_type": "markdown",
      "metadata": {
        "id": "lxHNM9kS74WW"
      },
      "source": [
        "### Return, expected return\n",
        "\n",
        "Наиболее важная метрика оценки качества работы агента: отдача.\n",
        "\n",
        "Отдача: $G(s_t) = \\sum_{i=t}^T r_i$\n",
        "\n",
        "Обычно также вводят параметр $\\gamma \\in [0, 1]$, дисконтирующий будущие вознаграждения. А еще, тк отдача может меняться от запуска к запуску благодаря вероятностным процессам, нас интересует отдача в среднем — ожидаемая отдача:\n",
        "\n",
        "$$\\hat{G}(s_t) = \\mathbb{E} [ \\sum_{i=t}^T \\gamma^{i-t} r_i ]$$\n",
        "\n",
        "Именно ее и оптимизируют в RL.\n",
        "\n",
        "Давайте научимся считать отдачу для состояний по траектории и считать среднюю отдачу."
      ]
    },
    {
      "cell_type": "code",
      "execution_count": 231,
      "metadata": {
        "id": "scdThsNA8T2B"
      },
      "outputs": [
        {
          "name": "stdout",
          "output_type": "stream",
          "text": [
            "{(0, 0): 1.0, (1, 0): 1.0, (2, -1): 0.0}\n",
            "meanG for all states: \n",
            "[1.9900000000000024, 1.0000000000000007, 0.0]\n",
            "\n",
            "({0, 1, 2, 3}, {0, 1, 2, -1}, {(0, 0): 1, (0, 1): 2, (0, 2): 3, (1, -1): 1, (2, -1): 2, (3, -1): 3}, [1, 2, 3], {(0, 0): 1.0, (0, 1): 2.0, (0, 2): 1.0, (1, -1): 0.0, (2, -1): 0.0, (3, -1): 0.0})\n",
            "meanG for all states: \n",
            "[1.2300000000000009, 0.0, 0.0, 0.0]\n",
            "\n",
            "{(0, 0): 1.0, (0, 1): 0.1, (1, 0): -0.1, (1, 1): 2.0, (2, 0): 0.5, (2, 1): 0.0, (3, -1): 0.0}\n",
            "meanG for all states: \n",
            "[1.8571937929941829, 1.9001623717193499, 0.4945595128400151, 0.0]\n"
          ]
        }
      ],
      "source": [
        "def G(tau, gamma):\n",
        "    r = 0.\n",
        "    discount = 1.0\n",
        "    for el in tau:\n",
        "        r += discount * el[2]\n",
        "        discount *= gamma\n",
        "\n",
        "    return r\n",
        "\n",
        "def mean_G(mdp):\n",
        "    states, _, _, _, _ = mdp\n",
        "    means = []\n",
        "    for s in states:\n",
        "        r = 0.0\n",
        "        for _ in range(100):\n",
        "            tau = run_episode(mdp, False, s)\n",
        "            r += G(tau, 0.99) / 100\n",
        "        means.append(r)\n",
        "    return means\n",
        "\n",
        "# Agent with optimal policy\n",
        "\n",
        "print(R_a)\n",
        "print(\"meanG for all states: \")\n",
        "print(mean_G(A_mdp))\n",
        "\n",
        "print()\n",
        "\n",
        "print(B_mdp)\n",
        "print(\"meanG for all states: \")\n",
        "print(mean_G(B_mdp))\n",
        "\n",
        "print()\n",
        "\n",
        "print(R_c)\n",
        "print(\"meanG for all states: \")\n",
        "print(mean_G(C_mdp))"
      ]
    }
  ],
  "metadata": {
    "colab": {
      "provenance": []
    },
    "kernelspec": {
      "display_name": "py3-12-11",
      "language": "python",
      "name": "python3"
    },
    "language_info": {
      "codemirror_mode": {
        "name": "ipython",
        "version": 3
      },
      "file_extension": ".py",
      "mimetype": "text/x-python",
      "name": "python",
      "nbconvert_exporter": "python",
      "pygments_lexer": "ipython3",
      "version": "3.12.11"
    }
  },
  "nbformat": 4,
  "nbformat_minor": 0
}
